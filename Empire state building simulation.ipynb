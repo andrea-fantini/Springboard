{
 "cells": [
  {
   "cell_type": "markdown",
   "metadata": {},
   "source": [
    "# Empire State Building Capstone\n",
    "\n",
    "**Objective**: What is the chance you'll end up over 60 floors/\n",
    "\n",
    "\n",
    "**Rules**:\n",
    "Get to the top of the empire state building by throwing dice\n",
    "\n",
    "* if the dice returns 1 or 2 => go one step down\n",
    "* if the dice returns 3, 4, 5 => go up one floor\n",
    "* if the dice returns 6 => throw again and whatever number comes out you go up as many steps\n",
    "\n",
    "Solve with a Random Walk\n"
   ]
  },
  {
   "cell_type": "code",
   "execution_count": 15,
   "metadata": {},
   "outputs": [
    {
     "name": "stdout",
     "output_type": "stream",
     "text": [
      "6\n"
     ]
    }
   ],
   "source": [
    "# Import numpy and set seed\n",
    "import numpy as np\n",
    "np.random.seed(123)\n",
    "\n",
    "#initialize step \n",
    "step = 50\n",
    "\n",
    "\n",
    "# Use randint() to simulate a dice roll\n",
    "dice = np.random.randint(1,7)\n",
    "print(dice)\n"
   ]
  },
  {
   "cell_type": "code",
   "execution_count": 40,
   "metadata": {},
   "outputs": [
    {
     "name": "stdout",
     "output_type": "stream",
     "text": [
      "6\n",
      "85\n"
     ]
    }
   ],
   "source": [
    "#control structure\n",
    "if dice <= 2 :\n",
    "    step = step - 1\n",
    "elif step > 2 and step < 6 :\n",
    "    step = step + 1\n",
    "else :\n",
    "    step = step + np.random.randint(1,7)\n",
    "print(dice)\n",
    "print(step)\n",
    "\n",
    " # Implement clumsiness\n",
    "if np.random.rand() <= 0.001 :\n",
    "    step = 0"
   ]
  },
  {
   "cell_type": "code",
   "execution_count": 54,
   "metadata": {},
   "outputs": [
    {
     "name": "stdout",
     "output_type": "stream",
     "text": [
      "[0, 0, 1, 2, 7, 8, 7, 6, 7, 8, 7, 8, 9, 10, 11, 10, 11, 10, 11, 12, 11, 10, 11, 10, 13, 12, 13, 14, 18, 17, 22, 21, 22, 21, 20, 19, 20, 21, 22, 23, 24, 23, 24, 25, 26, 25, 26, 25, 26, 25, 27, 28, 30, 35, 37, 41, 42, 41, 42, 43, 44, 43, 44, 45, 44, 45, 46, 47, 48, 49, 50, 51, 55, 56, 57, 56, 57, 58, 59, 60, 59, 60, 61, 62, 63, 62, 61, 62, 63, 64, 63, 65, 64, 65, 66, 65, 64, 63, 67, 68, 67]\n"
     ]
    }
   ],
   "source": [
    "# Initialize random_walk and counter\n",
    "random_walk = [0]\n",
    "\n",
    "# Complete the ___\n",
    "for x in range(100) :\n",
    "    # Set step: last element in random_walk\n",
    "    step = random_walk[-1]\n",
    "\n",
    "    # Roll the dice\n",
    "    dice = np.random.randint(1,7)\n",
    "\n",
    "    # Determine next step\n",
    "    if dice <= 2:\n",
    "        step = max(0,step - 1) #we don't want to go negative.\n",
    "    elif dice <= 5:\n",
    "        step = step + 1\n",
    "    else:\n",
    "        step = step + np.random.randint(1,7)\n",
    "    # Implement clumsiness\n",
    "    if np.random.rand() <= 0.001 :\n",
    "        step = 0\n",
    "\n",
    "    # append next_step to random_walk\n",
    "    random_walk.append(step)\n",
    "    \n",
    "    \n",
    "\n",
    "# Print random_walk\n",
    "print(random_walk)"
   ]
  },
  {
   "cell_type": "code",
   "execution_count": 55,
   "metadata": {
    "scrolled": true
   },
   "outputs": [
    {
     "data": {
      "image/png": "[encoded data removed]",
      "text/plain": [
       "<Figure size 432x288 with 1 Axes>"
      ]
     },
     "metadata": {
      "needs_background": "light"
     },
     "output_type": "display_data"
    }
   ],
   "source": [
    "import matplotlib.pyplot as plt\n",
    "\n",
    "#x = list(range(0,101,1))\n",
    "         \n",
    "plt.plot(random_walk)\n",
    "\n",
    "plt.show()\n"
   ]
  },
  {
   "cell_type": "code",
   "execution_count": null,
   "metadata": {},
   "outputs": [],
   "source": [
    "# Numpy is imported; seed is set\n",
    "\n",
    "# Initialize all_walks (don't change this line)\n",
    "all_walks = []\n",
    "tot_simulations = 1000\n",
    "# Simulate random walk 20 times\n",
    "for i in range(tot_simulations) :\n",
    "\n",
    "    # Code from before\n",
    "    random_walk = [0]\n",
    "    for x in range(100) :\n",
    "        step = random_walk[-1]\n",
    "        dice = np.random.randint(1,7)\n",
    "\n",
    "        if dice <= 2:\n",
    "            step = max(0, step - 1)\n",
    "        elif dice <= 5:\n",
    "            step = step + 1\n",
    "        else:\n",
    "            step = step + np.random.randint(1,7)\n",
    "        \n",
    "        # Implement clumsiness\n",
    "        if np.random.rand() <= 0.001 :\n",
    "            step = 0\n",
    "            \n",
    "        random_walk.append(step)\n",
    "\n",
    "    # Append random_walk to all_walks\n",
    "    all_walks.append(random_walk)\n",
    "\n",
    "# Convert all_walks to Numpy array: np_aw\n",
    "np_aw = np.array(all_walks)\n",
    "# Transpose np_aw: np_aw_t\n",
    "np_aw_t = np.transpose(np_aw)\n",
    "\n",
    "# Plot np_aw_t and show\n",
    "plt.plot(np_aw_t)\n",
    "plt.show()\n"
   ]
  },
  {
   "cell_type": "code",
   "execution_count": 73,
   "metadata": {
    "scrolled": true
   },
   "outputs": [
    {
     "data": {
      "image/png": "[encoded data removed]",
      "text/plain": [
       "<Figure size 432x288 with 1 Axes>"
      ]
     },
     "metadata": {
      "needs_background": "light"
     },
     "output_type": "display_data"
    }
   ],
   "source": [
    "# Select last row from np_aw_t: ends\n",
    "ends = np_aw_t[-1,:]\n",
    "\n",
    "# Plot histogram of ends, display plot\n",
    "plt.hist(ends,10)\n",
    "plt.show()"
   ]
  },
  {
   "cell_type": "code",
   "execution_count": 74,
   "metadata": {},
   "outputs": [
    {
     "name": "stdout",
     "output_type": "stream",
     "text": [
      "377\n",
      "0.754\n"
     ]
    }
   ],
   "source": [
    "#calculate the odds of reaching floor 60\n",
    "\n",
    "print(ends[ends >= 60].size)\n",
    "print(ends[ends >= 60].size/tot_simulations)"
   ]
  },
  {
   "cell_type": "code",
   "execution_count": null,
   "metadata": {},
   "outputs": [],
   "source": []
  }
 ],
 "metadata": {
  "kernelspec": {
   "display_name": "Python [conda env:TestEnv]",
   "language": "python",
   "name": "conda-env-TestEnv-py"
  },
  "language_info": {
   "codemirror_mode": {
    "name": "ipython",
    "version": 3
   },
   "file_extension": ".py",
   "mimetype": "text/x-python",
   "name": "python",
   "nbconvert_exporter": "python",
   "pygments_lexer": "ipython3",
   "version": "3.8.1"
  }
 },
 "nbformat": 4,
 "nbformat_minor": 4
}
