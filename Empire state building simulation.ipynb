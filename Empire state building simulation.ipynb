{
 "cells": [
  {
   "cell_type": "markdown",
   "metadata": {},
   "source": [
    "# Empire State Building Capstone\n",
    "\n",
    "**Objective**: Get to the top of the empire state building by throwing dice\n",
    "\n",
    "\n",
    "**Rules**:\n",
    "* if the dice returns 1 or 2 => go one step down\n",
    "* if the dice returns 3, 4, 5 => go up one floor\n",
    "* if the dice returns 6 => throw again and whatever number comes out you go up as many steps\n",
    "\n",
    "Solve with a Random Walk\n"
   ]
  },
  {
   "cell_type": "code",
   "execution_count": 15,
   "metadata": {},
   "outputs": [
    {
     "name": "stdout",
     "output_type": "stream",
     "text": [
      "6\n"
     ]
    }
   ],
   "source": [
    "# Import numpy and set seed\n",
    "import numpy as np\n",
    "np.random.seed(123)\n",
    "\n",
    "#initialize step \n",
    "step = 50\n",
    "\n",
    "\n",
    "# Use randint() to simulate a dice roll\n",
    "dice = np.random.randint(1,7)\n",
    "print(dice)\n"
   ]
  },
  {
   "cell_type": "code",
   "execution_count": 16,
   "metadata": {},
   "outputs": [
    {
     "name": "stdout",
     "output_type": "stream",
     "text": [
      "6\n",
      "53\n"
     ]
    }
   ],
   "source": [
    "#control structure\n",
    "if dice <= 2 :\n",
    "    step = step - 1\n",
    "elif step > 2 and step < 6 :\n",
    "    step = step + 1\n",
    "else :\n",
    "    step = step + np.random.randint(1,7)\n",
    "print(dice)\n",
    "print(step)"
   ]
  },
  {
   "cell_type": "code",
   "execution_count": null,
   "metadata": {},
   "outputs": [],
   "source": []
  }
 ],
 "metadata": {
  "kernelspec": {
   "display_name": "Python [conda env:TestEnv]",
   "language": "python",
   "name": "conda-env-TestEnv-py"
  },
  "language_info": {
   "codemirror_mode": {
    "name": "ipython",
    "version": 3
   },
   "file_extension": ".py",
   "mimetype": "text/x-python",
   "name": "python",
   "nbconvert_exporter": "python",
   "pygments_lexer": "ipython3",
   "version": "3.8.1"
  }
 },
 "nbformat": 4,
 "nbformat_minor": 4
}
