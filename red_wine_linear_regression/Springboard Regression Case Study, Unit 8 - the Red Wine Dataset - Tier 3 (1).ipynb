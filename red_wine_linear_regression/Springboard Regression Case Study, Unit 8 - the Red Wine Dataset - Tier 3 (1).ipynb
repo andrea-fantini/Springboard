{
 "cells": [
  {
   "cell_type": "markdown",
   "metadata": {
    "colab_type": "text",
    "id": "2cI3hdxwGqju"
   },
   "source": [
    "# Springboard Regression Case Study, Unit 8 - The Red Wine Dataset - Tier 3"
   ]
  },
  {
   "cell_type": "markdown",
   "metadata": {
    "colab_type": "text",
    "id": "VaawwyomGqjw"
   },
   "source": [
    "Welcome to the Unit 8 Springboard Regression case study! Please note: this is ***Tier 3*** of the case study.\n",
    "\n",
    "This case study was designed for you to **use Python to apply the knowledge you've acquired in reading *The Art of Statistics* (hereinafter *AoS*) by Professor Spiegelhalter**. Specifically, the case study will get you doing regression analysis; a method discussed in Chapter 5 on p.121. It might be useful to have the book open at that page when doing the case study to remind you of what it is we're up to (but bear in mind that other statistical concepts, such as training and testing, will be applied, so you might have to glance at other chapters too).  \n",
    "\n",
    "The aim is to ***use exploratory data analysis (EDA) and regression to predict alcohol levels in wine with a model that's as accurate as possible***. \n",
    "\n",
    "We'll try a *univariate* analysis (one involving a single explanatory variable) as well as a *multivariate* one (involving multiple explanatory variables), and we'll iterate together towards a decent model by the end of the notebook. The main thing is for you to see how regression analysis looks in Python and jupyter, and to get some practice implementing this analysis.\n",
    "\n",
    "Throughout this case study, **questions** will be asked in the markdown cells. Try to **answer these yourself in a simple text file** when they come up. Most of the time, the answers will become clear as you progress through the notebook. Some of the answers may require a little research with Google and other basic resources available to every data scientist. \n",
    "\n",
    "For this notebook, we're going to use the red wine dataset, wineQualityReds.csv. Make sure it's downloaded and sitting in your working directory. This is a very common dataset for practicing regression analysis and is actually freely available on Kaggle, [here](https://www.kaggle.com/piyushgoyal443/red-wine-dataset).\n",
    "\n",
    "You're pretty familiar with the data science pipeline at this point. This project will have the following structure: \n",
    "**1. Sourcing and loading** \n",
    "- Import relevant libraries\n",
    "- Load the data \n",
    "- Exploring the data\n",
    "- Choosing a dependent variable\n",
    " \n",
    "**2. Cleaning, transforming, and visualizing**\n",
    "- Visualizing correlations\n",
    "  \n",
    "  \n",
    "**3. Modeling** \n",
    "- Train/Test split\n",
    "- Making a Linear regression model: your first model\n",
    "- Making a Linear regression model: your second model: Ordinary Least Squares (OLS) \n",
    "- Making a Linear regression model: your third model: multiple linear regression\n",
    "- Making a Linear regression model: your fourth model: avoiding redundancy\n",
    "\n",
    "**4. Evaluating and concluding** \n",
    "- Reflection \n",
    "- Which model was best?\n",
    "- Other regression algorithms"
   ]
  },
  {
   "cell_type": "markdown",
   "metadata": {
    "colab_type": "text",
    "id": "HXNI7VSYGqjx"
   },
   "source": [
    "### 1. Sourcing and loading"
   ]
  },
  {
   "cell_type": "markdown",
   "metadata": {
    "colab_type": "text",
    "id": "yh_xcbPcGqjy"
   },
   "source": [
    "#### 1a. Import relevant libraries "
   ]
  },
  {
   "cell_type": "code",
   "execution_count": 1,
   "metadata": {
    "colab": {},
    "colab_type": "code",
    "id": "EbJiKGCdGqjz"
   },
   "outputs": [],
   "source": [
    "# Import relevant libraries and packages.\n",
    "import numpy as np \n",
    "import pandas as pd \n",
    "import matplotlib.pyplot as plt \n",
    "import seaborn as sns # For all our visualization needs.\n",
    "import statsmodels.api as sm # What does this do? Find out and type here.\n",
    "from statsmodels.graphics.api import abline_plot # What does this do? Find out and type here.\n",
    "from sklearn.metrics import mean_squared_error, r2_score # What does this do? Find out and type here.\n",
    "from sklearn.model_selection import train_test_split #  What does this do? Find out and type here.\n",
    "from sklearn import linear_model, preprocessing # What does this do? Find out and type here.\n",
    "import warnings # For handling error messages.\n",
    "# Don't worry about the following two instructions: they just suppress warnings that could occur later. \n",
    "warnings.simplefilter(action=\"ignore\", category=FutureWarning)\n",
    "warnings.filterwarnings(action=\"ignore\", module=\"scipy\", message=\"^internal gelsd\")\n"
   ]
  },
  {
   "cell_type": "markdown",
   "metadata": {
    "colab_type": "text",
    "id": "T_T_6Cv1Gqj2"
   },
   "source": [
    "#### 1b. Load the data"
   ]
  },
  {
   "cell_type": "code",
   "execution_count": 2,
   "metadata": {
    "colab": {},
    "colab_type": "code",
    "id": "KTnM8zA6Gqj3"
   },
   "outputs": [],
   "source": [
    "# Load the data. \n",
    "filename = \"data/datasets_918_1674_wineQualityReds.csv\"\n",
    "\n",
    "red_wine = pd.read_csv(filename, index_col=0)\n",
    "\n"
   ]
  },
  {
   "cell_type": "markdown",
   "metadata": {
    "colab_type": "text",
    "id": "-zYSi9yRGqj6"
   },
   "source": [
    "#### 1c. Exploring the data"
   ]
  },
  {
   "cell_type": "code",
   "execution_count": 3,
   "metadata": {
    "colab": {},
    "colab_type": "code",
    "id": "fAOOJdgdGqj6",
    "scrolled": true
   },
   "outputs": [
    {
     "data": {
      "text/html": [
       "<div>\n",
       "<style scoped>\n",
       "    .dataframe tbody tr th:only-of-type {\n",
       "        vertical-align: middle;\n",
       "    }\n",
       "\n",
       "    .dataframe tbody tr th {\n",
       "        vertical-align: top;\n",
       "    }\n",
       "\n",
       "    .dataframe thead th {\n",
       "        text-align: right;\n",
       "    }\n",
       "</style>\n",
       "<table border=\"1\" class=\"dataframe\">\n",
       "  <thead>\n",
       "    <tr style=\"text-align: right;\">\n",
       "      <th></th>\n",
       "      <th>fixed.acidity</th>\n",
       "      <th>volatile.acidity</th>\n",
       "      <th>citric.acid</th>\n",
       "      <th>residual.sugar</th>\n",
       "      <th>chlorides</th>\n",
       "      <th>free.sulfur.dioxide</th>\n",
       "      <th>total.sulfur.dioxide</th>\n",
       "      <th>density</th>\n",
       "      <th>pH</th>\n",
       "      <th>sulphates</th>\n",
       "      <th>alcohol</th>\n",
       "      <th>quality</th>\n",
       "    </tr>\n",
       "  </thead>\n",
       "  <tbody>\n",
       "    <tr>\n",
       "      <th>1</th>\n",
       "      <td>7.4</td>\n",
       "      <td>0.70</td>\n",
       "      <td>0.00</td>\n",
       "      <td>1.9</td>\n",
       "      <td>0.076</td>\n",
       "      <td>11.0</td>\n",
       "      <td>34.0</td>\n",
       "      <td>0.9978</td>\n",
       "      <td>3.51</td>\n",
       "      <td>0.56</td>\n",
       "      <td>9.4</td>\n",
       "      <td>5</td>\n",
       "    </tr>\n",
       "    <tr>\n",
       "      <th>2</th>\n",
       "      <td>7.8</td>\n",
       "      <td>0.88</td>\n",
       "      <td>0.00</td>\n",
       "      <td>2.6</td>\n",
       "      <td>0.098</td>\n",
       "      <td>25.0</td>\n",
       "      <td>67.0</td>\n",
       "      <td>0.9968</td>\n",
       "      <td>3.20</td>\n",
       "      <td>0.68</td>\n",
       "      <td>9.8</td>\n",
       "      <td>5</td>\n",
       "    </tr>\n",
       "    <tr>\n",
       "      <th>3</th>\n",
       "      <td>7.8</td>\n",
       "      <td>0.76</td>\n",
       "      <td>0.04</td>\n",
       "      <td>2.3</td>\n",
       "      <td>0.092</td>\n",
       "      <td>15.0</td>\n",
       "      <td>54.0</td>\n",
       "      <td>0.9970</td>\n",
       "      <td>3.26</td>\n",
       "      <td>0.65</td>\n",
       "      <td>9.8</td>\n",
       "      <td>5</td>\n",
       "    </tr>\n",
       "  </tbody>\n",
       "</table>\n",
       "</div>"
      ],
      "text/plain": [
       "   fixed.acidity  volatile.acidity  citric.acid  residual.sugar  chlorides  \\\n",
       "1            7.4              0.70         0.00             1.9      0.076   \n",
       "2            7.8              0.88         0.00             2.6      0.098   \n",
       "3            7.8              0.76         0.04             2.3      0.092   \n",
       "\n",
       "   free.sulfur.dioxide  total.sulfur.dioxide  density    pH  sulphates  \\\n",
       "1                 11.0                  34.0   0.9978  3.51       0.56   \n",
       "2                 25.0                  67.0   0.9968  3.20       0.68   \n",
       "3                 15.0                  54.0   0.9970  3.26       0.65   \n",
       "\n",
       "   alcohol  quality  \n",
       "1      9.4        5  \n",
       "2      9.8        5  \n",
       "3      9.8        5  "
      ]
     },
     "execution_count": 3,
     "metadata": {},
     "output_type": "execute_result"
    }
   ],
   "source": [
    "# Check out its appearance. \n",
    "red_wine.head(3)"
   ]
  },
  {
   "cell_type": "code",
   "execution_count": 4,
   "metadata": {
    "colab": {},
    "colab_type": "code",
    "id": "bylOynLnGqj9"
   },
   "outputs": [
    {
     "name": "stdout",
     "output_type": "stream",
     "text": [
      "<class 'pandas.core.frame.DataFrame'>\n",
      "Int64Index: 1599 entries, 1 to 1599\n",
      "Data columns (total 12 columns):\n",
      " #   Column                Non-Null Count  Dtype  \n",
      "---  ------                --------------  -----  \n",
      " 0   fixed.acidity         1599 non-null   float64\n",
      " 1   volatile.acidity      1599 non-null   float64\n",
      " 2   citric.acid           1599 non-null   float64\n",
      " 3   residual.sugar        1599 non-null   float64\n",
      " 4   chlorides             1599 non-null   float64\n",
      " 5   free.sulfur.dioxide   1599 non-null   float64\n",
      " 6   total.sulfur.dioxide  1599 non-null   float64\n",
      " 7   density               1599 non-null   float64\n",
      " 8   pH                    1599 non-null   float64\n",
      " 9   sulphates             1599 non-null   float64\n",
      " 10  alcohol               1599 non-null   float64\n",
      " 11  quality               1599 non-null   int64  \n",
      "dtypes: float64(11), int64(1)\n",
      "memory usage: 162.4 KB\n"
     ]
    }
   ],
   "source": [
    "# Another very useful method to call on a recently imported dataset is .info(). Call it here to get a good\n",
    "# overview of the data\n",
    "red_wine.info()"
   ]
  },
  {
   "cell_type": "markdown",
   "metadata": {
    "colab_type": "text",
    "id": "6yLvMH3CGqj_"
   },
   "source": [
    "What can you infer about the nature of these variables, as output by the info() method?\n",
    "\n",
    "Which variables might be suitable for regression analysis, and why? For those variables that aren't suitable for regression analysis, is there another type of statistical modeling for which they are suitable?"
   ]
  },
  {
   "cell_type": "code",
   "execution_count": 5,
   "metadata": {
    "colab": {},
    "colab_type": "code",
    "id": "lsuMtWKTGqkA",
    "scrolled": false
   },
   "outputs": [
    {
     "data": {
      "text/plain": [
       "(1599, 12)"
      ]
     },
     "execution_count": 5,
     "metadata": {},
     "output_type": "execute_result"
    }
   ],
   "source": [
    "# We should also look more closely at the dimensions of the dataset. \n",
    "red_wine.shape"
   ]
  },
  {
   "cell_type": "markdown",
   "metadata": {
    "colab_type": "text",
    "id": "Cb4YWtZCGqkC"
   },
   "source": [
    "#### 1d. Choosing a dependent variable"
   ]
  },
  {
   "cell_type": "markdown",
   "metadata": {
    "colab_type": "text",
    "id": "8GBWMyLOGqkD"
   },
   "source": [
    "We now need to pick a dependent variable for our regression analysis: a variable whose values we will predict. \n",
    "\n",
    "'Quality' seems to be as good a candidate as any. Let's check it out. One of the quickest and most informative ways to understand a variable is to make a histogram of it. This gives us an idea of both the center and spread of its values. "
   ]
  },
  {
   "cell_type": "code",
   "execution_count": 6,
   "metadata": {
    "colab": {},
    "colab_type": "code",
    "id": "xRo3texfGqkE"
   },
   "outputs": [
    {
     "data": {
      "image/png": "[encoded data removed]",
      "text/plain": [
       "<Figure size 432x288 with 1 Axes>"
      ]
     },
     "metadata": {
      "needs_background": "light"
     },
     "output_type": "display_data"
    }
   ],
   "source": [
    "# Making a histogram of the quality variable.\n",
    "_ = plt.hist(red_wine.quality)\n",
    "\n",
    "_ = plt.xlabel('Quality')\n",
    "_ = plt.ylabel('Count')\n",
    "_ = plt.title('Red Wine - Quality')\n",
    "plt.show()"
   ]
  },
  {
   "cell_type": "markdown",
   "metadata": {
    "colab_type": "text",
    "id": "lYnayRoDGqkG"
   },
   "source": [
    "We can see so much about the quality variable just from this simple visualization. Answer yourself: what value do most wines have for quality? What is the minimum quality value below, and the maximum quality value? What is the range? Remind yourself of these summary statistical concepts by looking at p.49 of the *AoS*.\n",
    "\n",
    "But can you think of a problem with making this variable the dependent variable of regression analysis? Remember the example in *AoS* on p.122 of predicting the heights of children from the heights of parents? Take a moment here to think about potential problems before reading on. \n",
    "\n",
    "The issue is this: quality is a *discrete* variable, in that its values are integers (whole numbers) rather than floating point numbers. Thus, quality is not a *continuous* variable. But this means that it's actually not the best target for regression analysis. \n",
    "\n",
    "Before we dismiss the quality variable, however, let's verify that it is indeed a discrete variable with some further exploration. "
   ]
  },
  {
   "cell_type": "code",
   "execution_count": 7,
   "metadata": {
    "colab": {},
    "colab_type": "code",
    "id": "NAL3KUn-GqkH"
   },
   "outputs": [
    {
     "data": {
      "text/plain": [
       "count    1599.000000\n",
       "mean        5.636023\n",
       "std         0.807569\n",
       "min         3.000000\n",
       "25%         5.000000\n",
       "50%         6.000000\n",
       "75%         6.000000\n",
       "max         8.000000\n",
       "Name: quality, dtype: float64"
      ]
     },
     "execution_count": 7,
     "metadata": {},
     "output_type": "execute_result"
    }
   ],
   "source": [
    "# Get a basic statistical summary of the variable \n",
    "red_wine.quality.describe()\n",
    "\n",
    "# What do you notice from this summary? "
   ]
  },
  {
   "cell_type": "code",
   "execution_count": 8,
   "metadata": {
    "colab": {},
    "colab_type": "code",
    "id": "NecGX2YgGqkJ"
   },
   "outputs": [
    {
     "data": {
      "text/plain": [
       "5    681\n",
       "6    638\n",
       "7    199\n",
       "4     53\n",
       "8     18\n",
       "3     10\n",
       "Name: quality, dtype: int64"
      ]
     },
     "execution_count": 8,
     "metadata": {},
     "output_type": "execute_result"
    }
   ],
   "source": [
    "# Get a list of the values of the quality variable, and the number of occurrences of each. \n",
    "red_wine.quality.value_counts()"
   ]
  },
  {
   "cell_type": "markdown",
   "metadata": {
    "colab_type": "text",
    "id": "HXm0-0P6GqkL"
   },
   "source": [
    "The outputs of the describe() and value_counts() methods are consistent with our histogram, and since there are just as many values as there are rows in the dataset, we can infer that there are no NAs for the quality variable. \n",
    "\n",
    "But scroll up again to when we called info() on our wine dataset. We could have seen there, already, that the quality variable had int64 as its type. As a result, we had sufficient information, already, to know that the quality variable was not appropriate for regression analysis. Did you figure this out yourself? If so, kudos to you!\n",
    "\n",
    "The quality variable would, however, conduce to proper classification analysis. This is because, while the values for the quality variable are numeric, those numeric discrete values represent *categories*; and the prediction of category-placement is most often best done by classification algorithms. You saw the decision tree output by running a classification algorithm on the Titanic dataset on p.168 of Chapter 6 of *AoS*. For now, we'll continue with our regression analysis, and continue our search for a suitable dependent variable. \n",
    "\n",
    "Now, since the rest of the variables of our wine dataset are continuous, we could — in theory — pick any of them. But that does not mean that are all equally sutiable choices. What counts as a suitable dependent variable for regression analysis is determined not just by *intrinsic* features of the dataset (such as data types, number of NAs etc) but by *extrinsic* features, such as, simply, which variables are the most interesting or useful to predict, given our aims and values in the context we're in. Almost always, we can only determine which variables are sensible choices for dependent variables with some **domain knowledge**. \n",
    "\n",
    "Not all of you might be wine buffs, but one very important and interesting quality in wine is [acidity](https://waterhouse.ucdavis.edu/whats-in-wine/fixed-acidity). As the Waterhouse Lab at the University of California explains, 'acids impart the sourness or tartness that is a fundamental feature in wine taste.  Wines lacking in acid are \"flat.\" Chemically the acids influence titrable acidity which affects taste and pH which affects  color, stability to oxidation, and consequantly the overall lifespan of a wine.'\n",
    "\n",
    "If we cannot predict quality, then it seems like **fixed acidity** might be a great option for a dependent variable. Let's go for that."
   ]
  },
  {
   "cell_type": "markdown",
   "metadata": {
    "colab_type": "text",
    "id": "4949xkedGqkM"
   },
   "source": [
    "So if we're going for fixed acidity as our dependent variable, what we now want to get is an idea of *which variables are related interestingly to that dependent variable*. \n",
    "\n",
    "We can call the .corr() method on our wine data to look at all the correlations between our variables. As the [documentation](https://pandas.pydata.org/pandas-docs/stable/reference/api/pandas.DataFrame.corr.html) shows, the default correlation coefficient is the Pearson correlation coefficient (p.58 and p.396 of the *AoS*); but other coefficients can be plugged in as parameters. Remember, the Pearson correlation coefficient shows us how close to a straight line the data-points fall, and is a number between -1 and 1. "
   ]
  },
  {
   "cell_type": "code",
   "execution_count": 9,
   "metadata": {
    "colab": {},
    "colab_type": "code",
    "id": "7Spwrq9FGqkN"
   },
   "outputs": [
    {
     "data": {
      "text/html": [
       "<div>\n",
       "<style scoped>\n",
       "    .dataframe tbody tr th:only-of-type {\n",
       "        vertical-align: middle;\n",
       "    }\n",
       "\n",
       "    .dataframe tbody tr th {\n",
       "        vertical-align: top;\n",
       "    }\n",
       "\n",
       "    .dataframe thead th {\n",
       "        text-align: right;\n",
       "    }\n",
       "</style>\n",
       "<table border=\"1\" class=\"dataframe\">\n",
       "  <thead>\n",
       "    <tr style=\"text-align: right;\">\n",
       "      <th></th>\n",
       "      <th>fixed.acidity</th>\n",
       "      <th>volatile.acidity</th>\n",
       "      <th>citric.acid</th>\n",
       "      <th>residual.sugar</th>\n",
       "      <th>chlorides</th>\n",
       "      <th>free.sulfur.dioxide</th>\n",
       "      <th>total.sulfur.dioxide</th>\n",
       "      <th>density</th>\n",
       "      <th>pH</th>\n",
       "      <th>sulphates</th>\n",
       "      <th>alcohol</th>\n",
       "      <th>quality</th>\n",
       "    </tr>\n",
       "  </thead>\n",
       "  <tbody>\n",
       "    <tr>\n",
       "      <th>fixed.acidity</th>\n",
       "      <td>1.000000</td>\n",
       "      <td>-0.256131</td>\n",
       "      <td>0.671703</td>\n",
       "      <td>0.114777</td>\n",
       "      <td>0.093705</td>\n",
       "      <td>-0.153794</td>\n",
       "      <td>-0.113181</td>\n",
       "      <td>0.668047</td>\n",
       "      <td>-0.682978</td>\n",
       "      <td>0.183006</td>\n",
       "      <td>-0.061668</td>\n",
       "      <td>0.124052</td>\n",
       "    </tr>\n",
       "    <tr>\n",
       "      <th>volatile.acidity</th>\n",
       "      <td>-0.256131</td>\n",
       "      <td>1.000000</td>\n",
       "      <td>-0.552496</td>\n",
       "      <td>0.001918</td>\n",
       "      <td>0.061298</td>\n",
       "      <td>-0.010504</td>\n",
       "      <td>0.076470</td>\n",
       "      <td>0.022026</td>\n",
       "      <td>0.234937</td>\n",
       "      <td>-0.260987</td>\n",
       "      <td>-0.202288</td>\n",
       "      <td>-0.390558</td>\n",
       "    </tr>\n",
       "    <tr>\n",
       "      <th>citric.acid</th>\n",
       "      <td>0.671703</td>\n",
       "      <td>-0.552496</td>\n",
       "      <td>1.000000</td>\n",
       "      <td>0.143577</td>\n",
       "      <td>0.203823</td>\n",
       "      <td>-0.060978</td>\n",
       "      <td>0.035533</td>\n",
       "      <td>0.364947</td>\n",
       "      <td>-0.541904</td>\n",
       "      <td>0.312770</td>\n",
       "      <td>0.109903</td>\n",
       "      <td>0.226373</td>\n",
       "    </tr>\n",
       "    <tr>\n",
       "      <th>residual.sugar</th>\n",
       "      <td>0.114777</td>\n",
       "      <td>0.001918</td>\n",
       "      <td>0.143577</td>\n",
       "      <td>1.000000</td>\n",
       "      <td>0.055610</td>\n",
       "      <td>0.187049</td>\n",
       "      <td>0.203028</td>\n",
       "      <td>0.355283</td>\n",
       "      <td>-0.085652</td>\n",
       "      <td>0.005527</td>\n",
       "      <td>0.042075</td>\n",
       "      <td>0.013732</td>\n",
       "    </tr>\n",
       "    <tr>\n",
       "      <th>chlorides</th>\n",
       "      <td>0.093705</td>\n",
       "      <td>0.061298</td>\n",
       "      <td>0.203823</td>\n",
       "      <td>0.055610</td>\n",
       "      <td>1.000000</td>\n",
       "      <td>0.005562</td>\n",
       "      <td>0.047400</td>\n",
       "      <td>0.200632</td>\n",
       "      <td>-0.265026</td>\n",
       "      <td>0.371260</td>\n",
       "      <td>-0.221141</td>\n",
       "      <td>-0.128907</td>\n",
       "    </tr>\n",
       "    <tr>\n",
       "      <th>free.sulfur.dioxide</th>\n",
       "      <td>-0.153794</td>\n",
       "      <td>-0.010504</td>\n",
       "      <td>-0.060978</td>\n",
       "      <td>0.187049</td>\n",
       "      <td>0.005562</td>\n",
       "      <td>1.000000</td>\n",
       "      <td>0.667666</td>\n",
       "      <td>-0.021946</td>\n",
       "      <td>0.070377</td>\n",
       "      <td>0.051658</td>\n",
       "      <td>-0.069408</td>\n",
       "      <td>-0.050656</td>\n",
       "    </tr>\n",
       "    <tr>\n",
       "      <th>total.sulfur.dioxide</th>\n",
       "      <td>-0.113181</td>\n",
       "      <td>0.076470</td>\n",
       "      <td>0.035533</td>\n",
       "      <td>0.203028</td>\n",
       "      <td>0.047400</td>\n",
       "      <td>0.667666</td>\n",
       "      <td>1.000000</td>\n",
       "      <td>0.071269</td>\n",
       "      <td>-0.066495</td>\n",
       "      <td>0.042947</td>\n",
       "      <td>-0.205654</td>\n",
       "      <td>-0.185100</td>\n",
       "    </tr>\n",
       "    <tr>\n",
       "      <th>density</th>\n",
       "      <td>0.668047</td>\n",
       "      <td>0.022026</td>\n",
       "      <td>0.364947</td>\n",
       "      <td>0.355283</td>\n",
       "      <td>0.200632</td>\n",
       "      <td>-0.021946</td>\n",
       "      <td>0.071269</td>\n",
       "      <td>1.000000</td>\n",
       "      <td>-0.341699</td>\n",
       "      <td>0.148506</td>\n",
       "      <td>-0.496180</td>\n",
       "      <td>-0.174919</td>\n",
       "    </tr>\n",
       "    <tr>\n",
       "      <th>pH</th>\n",
       "      <td>-0.682978</td>\n",
       "      <td>0.234937</td>\n",
       "      <td>-0.541904</td>\n",
       "      <td>-0.085652</td>\n",
       "      <td>-0.265026</td>\n",
       "      <td>0.070377</td>\n",
       "      <td>-0.066495</td>\n",
       "      <td>-0.341699</td>\n",
       "      <td>1.000000</td>\n",
       "      <td>-0.196648</td>\n",
       "      <td>0.205633</td>\n",
       "      <td>-0.057731</td>\n",
       "    </tr>\n",
       "    <tr>\n",
       "      <th>sulphates</th>\n",
       "      <td>0.183006</td>\n",
       "      <td>-0.260987</td>\n",
       "      <td>0.312770</td>\n",
       "      <td>0.005527</td>\n",
       "      <td>0.371260</td>\n",
       "      <td>0.051658</td>\n",
       "      <td>0.042947</td>\n",
       "      <td>0.148506</td>\n",
       "      <td>-0.196648</td>\n",
       "      <td>1.000000</td>\n",
       "      <td>0.093595</td>\n",
       "      <td>0.251397</td>\n",
       "    </tr>\n",
       "    <tr>\n",
       "      <th>alcohol</th>\n",
       "      <td>-0.061668</td>\n",
       "      <td>-0.202288</td>\n",
       "      <td>0.109903</td>\n",
       "      <td>0.042075</td>\n",
       "      <td>-0.221141</td>\n",
       "      <td>-0.069408</td>\n",
       "      <td>-0.205654</td>\n",
       "      <td>-0.496180</td>\n",
       "      <td>0.205633</td>\n",
       "      <td>0.093595</td>\n",
       "      <td>1.000000</td>\n",
       "      <td>0.476166</td>\n",
       "    </tr>\n",
       "    <tr>\n",
       "      <th>quality</th>\n",
       "      <td>0.124052</td>\n",
       "      <td>-0.390558</td>\n",
       "      <td>0.226373</td>\n",
       "      <td>0.013732</td>\n",
       "      <td>-0.128907</td>\n",
       "      <td>-0.050656</td>\n",
       "      <td>-0.185100</td>\n",
       "      <td>-0.174919</td>\n",
       "      <td>-0.057731</td>\n",
       "      <td>0.251397</td>\n",
       "      <td>0.476166</td>\n",
       "      <td>1.000000</td>\n",
       "    </tr>\n",
       "  </tbody>\n",
       "</table>\n",
       "</div>"
      ],
      "text/plain": [
       "                      fixed.acidity  volatile.acidity  citric.acid  \\\n",
       "fixed.acidity              1.000000         -0.256131     0.671703   \n",
       "volatile.acidity          -0.256131          1.000000    -0.552496   \n",
       "citric.acid                0.671703         -0.552496     1.000000   \n",
       "residual.sugar             0.114777          0.001918     0.143577   \n",
       "chlorides                  0.093705          0.061298     0.203823   \n",
       "free.sulfur.dioxide       -0.153794         -0.010504    -0.060978   \n",
       "total.sulfur.dioxide      -0.113181          0.076470     0.035533   \n",
       "density                    0.668047          0.022026     0.364947   \n",
       "pH                        -0.682978          0.234937    -0.541904   \n",
       "sulphates                  0.183006         -0.260987     0.312770   \n",
       "alcohol                   -0.061668         -0.202288     0.109903   \n",
       "quality                    0.124052         -0.390558     0.226373   \n",
       "\n",
       "                      residual.sugar  chlorides  free.sulfur.dioxide  \\\n",
       "fixed.acidity               0.114777   0.093705            -0.153794   \n",
       "volatile.acidity            0.001918   0.061298            -0.010504   \n",
       "citric.acid                 0.143577   0.203823            -0.060978   \n",
       "residual.sugar              1.000000   0.055610             0.187049   \n",
       "chlorides                   0.055610   1.000000             0.005562   \n",
       "free.sulfur.dioxide         0.187049   0.005562             1.000000   \n",
       "total.sulfur.dioxide        0.203028   0.047400             0.667666   \n",
       "density                     0.355283   0.200632            -0.021946   \n",
       "pH                         -0.085652  -0.265026             0.070377   \n",
       "sulphates                   0.005527   0.371260             0.051658   \n",
       "alcohol                     0.042075  -0.221141            -0.069408   \n",
       "quality                     0.013732  -0.128907            -0.050656   \n",
       "\n",
       "                      total.sulfur.dioxide   density        pH  sulphates  \\\n",
       "fixed.acidity                    -0.113181  0.668047 -0.682978   0.183006   \n",
       "volatile.acidity                  0.076470  0.022026  0.234937  -0.260987   \n",
       "citric.acid                       0.035533  0.364947 -0.541904   0.312770   \n",
       "residual.sugar                    0.203028  0.355283 -0.085652   0.005527   \n",
       "chlorides                         0.047400  0.200632 -0.265026   0.371260   \n",
       "free.sulfur.dioxide               0.667666 -0.021946  0.070377   0.051658   \n",
       "total.sulfur.dioxide              1.000000  0.071269 -0.066495   0.042947   \n",
       "density                           0.071269  1.000000 -0.341699   0.148506   \n",
       "pH                               -0.066495 -0.341699  1.000000  -0.196648   \n",
       "sulphates                         0.042947  0.148506 -0.196648   1.000000   \n",
       "alcohol                          -0.205654 -0.496180  0.205633   0.093595   \n",
       "quality                          -0.185100 -0.174919 -0.057731   0.251397   \n",
       "\n",
       "                       alcohol   quality  \n",
       "fixed.acidity        -0.061668  0.124052  \n",
       "volatile.acidity     -0.202288 -0.390558  \n",
       "citric.acid           0.109903  0.226373  \n",
       "residual.sugar        0.042075  0.013732  \n",
       "chlorides            -0.221141 -0.128907  \n",
       "free.sulfur.dioxide  -0.069408 -0.050656  \n",
       "total.sulfur.dioxide -0.205654 -0.185100  \n",
       "density              -0.496180 -0.174919  \n",
       "pH                    0.205633 -0.057731  \n",
       "sulphates             0.093595  0.251397  \n",
       "alcohol               1.000000  0.476166  \n",
       "quality               0.476166  1.000000  "
      ]
     },
     "execution_count": 9,
     "metadata": {},
     "output_type": "execute_result"
    }
   ],
   "source": [
    "# Call the .corr() method on the wine dataset \n",
    "corr = red_wine.corr()\n",
    "corr"
   ]
  },
  {
   "cell_type": "markdown",
   "metadata": {
    "colab_type": "text",
    "id": "N8gBajevGqkP"
   },
   "source": [
    "Ok - you might be thinking, but wouldn't it be nice if we visualized these relationships? It's hard to get a picture of the correlations between the variables without anything visual. \n",
    "\n",
    "Very true, and this brings us to the next section."
   ]
  },
  {
   "cell_type": "markdown",
   "metadata": {
    "colab_type": "text",
    "id": "ncBGyH7zGqkQ"
   },
   "source": [
    "### 2. Cleaning, Transforming, and Visualizing "
   ]
  },
  {
   "cell_type": "markdown",
   "metadata": {
    "colab_type": "text",
    "id": "XjpzISHEGqkQ"
   },
   "source": [
    "#### 2a. Visualizing correlations \n",
    "The heading of this stage of the data science pipeline ('Cleaning, Transforming, and Visualizing') doesn't imply that we have to do all of those operations in *that order*. Sometimes (and this is a case in point) our data is already relatively clean, and the priority is to do some visualization. Normally, however, our data is less sterile, and we have to do some cleaning and transforming first prior to visualizing. "
   ]
  },
  {
   "cell_type": "markdown",
   "metadata": {
    "colab_type": "text",
    "id": "-rG6J07GGqkR"
   },
   "source": [
    "Now that we've chosen alcohol level as our dependent variable for regression analysis, we can begin by plotting the pairwise relationships in the dataset, to check out how our variables relate to one another."
   ]
  },
  {
   "cell_type": "code",
   "execution_count": 10,
   "metadata": {
    "colab": {},
    "colab_type": "code",
    "id": "vZN9QcvcGqkS"
   },
   "outputs": [],
   "source": [
    "# Make a pairplot of the wine data\n",
    "#_ = sns.pairplot(red_wine)"
   ]
  },
  {
   "cell_type": "markdown",
   "metadata": {
    "colab_type": "text",
    "id": "WiMyY0pTGqkU"
   },
   "source": [
    "If you've never executed your own Seaborn pairplot before, just take a moment to look at the output. They certainly output a lot of information at once. What can you infer from it? What can you *not* justifiably infer from it?\n",
    "\n",
    "... All done? \n",
    "\n",
    "Here's a couple things you might have noticed: \n",
    "- a given cell value represents the correlation that exists between two variables \n",
    "- on the diagonal, you can see a bunch of histograms. This is because pairplotting the variables with themselves would be pointless, so the pairplot() method instead makes histograms to show the distributions of those variables' values. This allows us to quickly see the shape of each variable's values.  \n",
    "- the plots for the quality variable form horizontal bands, due to the fact that it's a discrete variable. We were certainly right in not pursuing a regression analysis of this variable.\n",
    "- Notice that some of the nice plots invite a line of best fit, such as alcohol vs density. Others, such as citric acid vs alcohol, are more inscrutable."
   ]
  },
  {
   "cell_type": "markdown",
   "metadata": {
    "colab_type": "text",
    "id": "K0d5C_26GqkV"
   },
   "source": [
    "So we now have called the .corr() method, and the .pairplot() Seaborn method, on our wine data. Both have flaws. Happily, we can get the best of both worlds with a heatmap. "
   ]
  },
  {
   "cell_type": "code",
   "execution_count": 11,
   "metadata": {
    "scrolled": true
   },
   "outputs": [
    {
     "data": {
      "image/png": "[encoded data removed]",
      "text/plain": [
       "<Figure size 720x720 with 2 Axes>"
      ]
     },
     "metadata": {
      "needs_background": "light"
     },
     "output_type": "display_data"
    }
   ],
   "source": [
    "from src.better_corrplot import corrplot\n",
    "\n",
    "plt.figure(figsize=(10, 10))\n",
    "corrplot(corr)"
   ]
  },
  {
   "cell_type": "code",
   "execution_count": 12,
   "metadata": {
    "colab": {},
    "colab_type": "code",
    "id": "iq83PhG_GqkW"
   },
   "outputs": [
    {
     "data": {
      "image/png": "[encoded data removed]",
      "text/plain": [
       "<Figure size 432x288 with 2 Axes>"
      ]
     },
     "metadata": {
      "needs_background": "light"
     },
     "output_type": "display_data"
    }
   ],
   "source": [
    "# Make a heatmap of the data \n",
    "ax = sns.heatmap(\n",
    "    corr, \n",
    "    vmin=-1, vmax=1, center=0,\n",
    "    cmap=sns.diverging_palette(20, 220, n=200),\n",
    "    square=True\n",
    ")\n",
    "ax.set_xticklabels(\n",
    "    ax.get_xticklabels(),\n",
    "    rotation=45,\n",
    "    horizontalalignment='right'\n",
    ");\n"
   ]
  },
  {
   "cell_type": "markdown",
   "metadata": {
    "colab_type": "text",
    "id": "LJIMwKqWGqkY"
   },
   "source": [
    "Take a moment to think about the following questions:\n",
    "- How does color relate to extent of correlation?\n",
    "- How might we use the plot to show us interesting relationships worth investigating? \n",
    "- More precisely, what does the heatmap show us about the fixed acidity variable's relationship to the density variable? \n",
    "\n",
    "There is a relatively strong correlation between the density and fixed acidity variables respectively. In the next code block, call the scatterplot() method on our sns object. Make the x-axis parameter 'density', the y-axis parameter 'fixed.acidity', and the third parameter specify our wine dataset.  "
   ]
  },
  {
   "cell_type": "code",
   "execution_count": 13,
   "metadata": {
    "colab": {},
    "colab_type": "code",
    "id": "No6IGyXQGqkY"
   },
   "outputs": [
    {
     "data": {
      "text/plain": [
       "<matplotlib.axes._subplots.AxesSubplot at 0x7f90bb190550>"
      ]
     },
     "execution_count": 13,
     "metadata": {},
     "output_type": "execute_result"
    },
    {
     "data": {
      "image/png": "[encoded data removed]",
      "text/plain": [
       "<Figure size 432x288 with 1 Axes>"
      ]
     },
     "metadata": {
      "needs_background": "light"
     },
     "output_type": "display_data"
    }
   ],
   "source": [
    "# Plot density against alcohol\n",
    "sns.scatterplot(x=red_wine['density'],y=red_wine['fixed.acidity'], data=red_wine)"
   ]
  },
  {
   "cell_type": "markdown",
   "metadata": {
    "colab_type": "text",
    "id": "ASgFbb9FGqka"
   },
   "source": [
    "We can see a positive correlation, and quite a steep one. There are some outliers, but as a whole, there is a steep looking line that looks like it ought to be drawn. "
   ]
  },
  {
   "cell_type": "code",
   "execution_count": 14,
   "metadata": {
    "colab": {},
    "colab_type": "code",
    "id": "Ao1n1kUUGqkb"
   },
   "outputs": [
    {
     "data": {
      "text/plain": [
       "<matplotlib.axes._subplots.AxesSubplot at 0x7f90bb5b8a00>"
      ]
     },
     "execution_count": 14,
     "metadata": {},
     "output_type": "execute_result"
    },
    {
     "data": {
      "image/png": "[encoded data removed]",
      "text/plain": [
       "<Figure size 432x288 with 1 Axes>"
      ]
     },
     "metadata": {
      "needs_background": "light"
     },
     "output_type": "display_data"
    }
   ],
   "source": [
    "# Call the regplot method on your sns object, with parameters: x = 'density', y = 'fixed.acidity'\n",
    "sns.regplot(x=red_wine['density'],y=red_wine['fixed.acidity'], data=red_wine)"
   ]
  },
  {
   "cell_type": "markdown",
   "metadata": {
    "colab_type": "text",
    "id": "bFfFLdBaGqkd"
   },
   "source": [
    "The line of best fit matches the overall shape of the data, but it's clear that there are some points that deviate from the line, rather than all clustering close. "
   ]
  },
  {
   "cell_type": "markdown",
   "metadata": {
    "colab_type": "text",
    "id": "4o5YeU4FGqkf"
   },
   "source": [
    "Let's see if we can predict fixed acidity based on density using linear regression. "
   ]
  },
  {
   "cell_type": "markdown",
   "metadata": {
    "colab_type": "text",
    "id": "rJYTl9gDGqkg"
   },
   "source": [
    "### 3. Modeling "
   ]
  },
  {
   "cell_type": "markdown",
   "metadata": {
    "colab_type": "text",
    "id": "0ppc75mQGqkg"
   },
   "source": [
    "#### 3a. Train/Test Split\n",
    "While this dataset is super clean, and hence doesn't require much for analysis, we still need to split our dataset into a test set and a training set.\n",
    "\n",
    "You'll recall from p.158 of *AoS* that such a split is important good practice when evaluating statistical models. On p.158, Professor Spiegelhalter was evaluating a classification tree, but the same applies when we're doing regression. **Normally, we train with 75% of the data and test on the remaining 25%.**\n",
    "\n",
    "To be sure, for our first model, we're only going to focus on two variables: fixed acidity as our dependent variable, and density as our sole independent predictor variable. \n",
    "\n",
    "We'll be using [sklearn](https://scikit-learn.org/stable/modules/generated/sklearn.model_selection.train_test_split.html) here. Don't worry if not all of the syntax makes sense; just follow the rationale for what we're doing. "
   ]
  },
  {
   "cell_type": "code",
   "execution_count": 15,
   "metadata": {
    "colab": {},
    "colab_type": "code",
    "id": "6gDs3MpuGqki"
   },
   "outputs": [],
   "source": [
    "# Subsetting our data into our dependent and independent variables.\n",
    "X = red_wine['density'].values.reshape(-1,1) # .values converts series to Numpy Array\n",
    "y = red_wine['fixed.acidity'].values.reshape(-1,1) # sklearn asked for (1,-1) but that didn't work...\n",
    "\n",
    "# Split the data. This line uses the sklearn function train_test_split().\n",
    "# The test_size parameter means we can train with 75% of the data, and test on 25%. \n",
    "X_train, X_test, y_train, y_test = train_test_split(X, y, test_size=0.25)"
   ]
  },
  {
   "cell_type": "code",
   "execution_count": 16,
   "metadata": {
    "colab": {},
    "colab_type": "code",
    "id": "9Zam5wpCGqkm"
   },
   "outputs": [
    {
     "name": "stdout",
     "output_type": "stream",
     "text": [
      "(1199, 1)\n",
      "(400, 1)\n",
      "(1199, 1)\n",
      "(400, 1)\n"
     ]
    }
   ],
   "source": [
    "# We now want to check the shape of the X train, y_train, X_test and y_test to make sure the proportions are right. \n",
    "print(X_train.shape)\n",
    "print(X_test.shape)\n",
    "print(y_train.shape)\n",
    "print(y_test.shape)"
   ]
  },
  {
   "cell_type": "markdown",
   "metadata": {
    "colab_type": "text",
    "id": "GHPrhBm-Gqko"
   },
   "source": [
    "#### 3b. Making a Linear Regression model: our first model\n",
    "Sklearn has a [LinearRegression()](https://scikit-learn.org/stable/modules/generated/sklearn.linear_model.LinearRegression.html) function built into the linear_model module. We'll be using that to make our regression model. "
   ]
  },
  {
   "cell_type": "code",
   "execution_count": 17,
   "metadata": {
    "colab": {},
    "colab_type": "code",
    "id": "03dzTnSgGqkp"
   },
   "outputs": [],
   "source": [
    "# Create the model: make a variable called rModel, and use it linear_model.LinearRegression appropriately\n",
    "rModel = linear_model.LinearRegression()"
   ]
  },
  {
   "cell_type": "code",
   "execution_count": 18,
   "metadata": {
    "colab": {},
    "colab_type": "code",
    "id": "w9f9H3G6Gqkr"
   },
   "outputs": [
    {
     "data": {
      "text/plain": [
       "LinearRegression(copy_X=True, fit_intercept=True, n_jobs=None, normalize=False)"
      ]
     },
     "execution_count": 18,
     "metadata": {},
     "output_type": "execute_result"
    }
   ],
   "source": [
    "# We now want to train the model on our test data.\n",
    "rModel.fit(X_train, y_train)"
   ]
  },
  {
   "cell_type": "code",
   "execution_count": 19,
   "metadata": {},
   "outputs": [
    {
     "name": "stdout",
     "output_type": "stream",
     "text": [
      "Coef =  [[624.94520392]]\n"
     ]
    }
   ],
   "source": [
    "print(\"Coef = \", rModel.coef_)"
   ]
  },
  {
   "cell_type": "code",
   "execution_count": 20,
   "metadata": {},
   "outputs": [
    {
     "name": "stdout",
     "output_type": "stream",
     "text": [
      "Intercept =  [-614.59044989]\n"
     ]
    }
   ],
   "source": [
    "print(\"Intercept = \", rModel.intercept_)"
   ]
  },
  {
   "cell_type": "code",
   "execution_count": 21,
   "metadata": {
    "colab": {},
    "colab_type": "code",
    "id": "BJaGHtpdGqkt"
   },
   "outputs": [
    {
     "name": "stdout",
     "output_type": "stream",
     "text": [
      "R*2 =  0.43710894277604195\n"
     ]
    }
   ],
   "source": [
    "# Evaluate the model  \n",
    "r_squared = rModel.score(X_train, y_train)\n",
    "print(\"R*2 = \", r_squared)"
   ]
  },
  {
   "cell_type": "markdown",
   "metadata": {
    "colab_type": "text",
    "id": "kcYpzHb-Gqkv"
   },
   "source": [
    "The above score is called R-Squared coefficient, or the \"coefficient of determination\". It's basically a measure of how successfully our model predicts the variations in the data away from the mean: 1 would mean a perfect model that explains 100% of the variation. At the moment, our model explains only about **23%??** of the variation from the mean. There's more work to do!"
   ]
  },
  {
   "cell_type": "code",
   "execution_count": 22,
   "metadata": {
    "colab": {},
    "colab_type": "code",
    "id": "aagTStMyGqkw"
   },
   "outputs": [],
   "source": [
    "# Use the model to make predictions about our test data\n",
    "y_pred = rModel.predict(X_test)"
   ]
  },
  {
   "cell_type": "code",
   "execution_count": 23,
   "metadata": {},
   "outputs": [
    {
     "data": {
      "image/png": "[encoded data removed]",
      "text/plain": [
       "<Figure size 432x288 with 1 Axes>"
      ]
     },
     "metadata": {
      "needs_background": "light"
     },
     "output_type": "display_data"
    }
   ],
   "source": [
    "# Let's plot the predictions against the actual result. Use scatter()\n",
    "_ = plt.scatter(y_test,y_pred)\n",
    "lowest = int(np.around(min(y_test)))\n",
    "highest = int(np.around(max(y_test)))\n",
    "\n",
    "_ = plt.plot([x for x in range(lowest,highest)],[x for x in range(lowest,highest)], color='red')\n",
    "# Label it nicely\n",
    "plt.title(\"Model 1 predictions vs. actual\")\n",
    "plt.xlabel(\"Actual\")\n",
    "plt.ylabel(\"Predicted\")\n",
    "\n",
    "plt.show()"
   ]
  },
  {
   "cell_type": "markdown",
   "metadata": {
    "colab_type": "text",
    "id": "Y3VK8DMEGqkz"
   },
   "source": [
    "The above scatterplot represents how well the predictions match the actual results. \n",
    "\n",
    "Along the x-axis, we have the actual fixed acidity, and along the y-axis we have the predicted value for the fixed acidity.\n",
    "\n",
    "There is a visible positive correlation, as the model has not been totally unsuccesful, but it's clear that it is not maximally accurate: wines with an actual fixed acidity of just over 10 have been predicted as having acidity levels from about 6.3 to 13."
   ]
  },
  {
   "cell_type": "markdown",
   "metadata": {
    "colab_type": "text",
    "id": "SVhg665zGqk0"
   },
   "source": [
    "Let's build a similar model using a different package, to see if we get a better result that way."
   ]
  },
  {
   "cell_type": "markdown",
   "metadata": {
    "colab_type": "text",
    "id": "cDiYKopuGqk0"
   },
   "source": [
    "#### 3c. Making a Linear Regression model: our second model: Ordinary Least Squares (OLS)"
   ]
  },
  {
   "cell_type": "code",
   "execution_count": 24,
   "metadata": {
    "colab": {},
    "colab_type": "code",
    "id": "MSLdlC5RGqk1"
   },
   "outputs": [
    {
     "data": {
      "text/plain": [
       "(1599, 2)"
      ]
     },
     "execution_count": 24,
     "metadata": {},
     "output_type": "execute_result"
    }
   ],
   "source": [
    "# Create the test and train sets. Here, we do things slightly differently.  \n",
    "# We make the explanatory variable X as before.\n",
    "\n",
    "X = red_wine['density'].values.reshape(-1,1) \n",
    "\n",
    "# But here, reassign X the value of adding a constant to it. This is required for Ordinary Least Squares Regression.\n",
    "# Further explanation of this can be found here: \n",
    "# https://www.statsmodels.org/devel/generated/statsmodels.regression.linear_model.OLS.html\n",
    "X = sm.add_constant(X)\n",
    "X.shape"
   ]
  },
  {
   "cell_type": "code",
   "execution_count": 25,
   "metadata": {
    "colab": {},
    "colab_type": "code",
    "id": "0KdTFF3NGqk3"
   },
   "outputs": [],
   "source": [
    "# The rest of the preparation is as before.\n",
    "y = red_wine['fixed.acidity'].values.reshape(-1,1)\n",
    "\n",
    "# Split the data using train_test_split()\n",
    "X_train, X_test, y_train, y_test = train_test_split(X, y, test_size=0.25)"
   ]
  },
  {
   "cell_type": "code",
   "execution_count": 26,
   "metadata": {},
   "outputs": [
    {
     "name": "stdout",
     "output_type": "stream",
     "text": [
      "(1199, 2)\n",
      "(400, 2)\n",
      "(1199, 1)\n",
      "(400, 1)\n"
     ]
    }
   ],
   "source": [
    "print(X_train.shape)\n",
    "print(X_test.shape)\n",
    "print(y_train.shape)\n",
    "print(y_test.shape)"
   ]
  },
  {
   "cell_type": "code",
   "execution_count": 27,
   "metadata": {
    "colab": {},
    "colab_type": "code",
    "id": "73JmGJxlGqk6"
   },
   "outputs": [
    {
     "name": "stdout",
     "output_type": "stream",
     "text": [
      "OLS parameters =  [-598.67145036  608.94382732]\n"
     ]
    }
   ],
   "source": [
    "# Create the model\n",
    "rModel2 = sm.OLS(y_train,X_train)\n",
    "\n",
    "# Fit the model with fit() \n",
    "results2 = rModel2.fit()\n",
    "\n",
    "print(\"OLS parameters = \", results2.params)"
   ]
  },
  {
   "cell_type": "code",
   "execution_count": 28,
   "metadata": {
    "colab": {},
    "colab_type": "code",
    "id": "Qb-6Sz8dGqk9"
   },
   "outputs": [
    {
     "data": {
      "text/html": [
       "<table class=\"simpletable\">\n",
       "<caption>OLS Regression Results</caption>\n",
       "<tr>\n",
       "  <th>Dep. Variable:</th>            <td>y</td>        <th>  R-squared:         </th> <td>   0.435</td> \n",
       "</tr>\n",
       "<tr>\n",
       "  <th>Model:</th>                   <td>OLS</td>       <th>  Adj. R-squared:    </th> <td>   0.434</td> \n",
       "</tr>\n",
       "<tr>\n",
       "  <th>Method:</th>             <td>Least Squares</td>  <th>  F-statistic:       </th> <td>   921.5</td> \n",
       "</tr>\n",
       "<tr>\n",
       "  <th>Date:</th>             <td>Mon, 13 Jul 2020</td> <th>  Prob (F-statistic):</th> <td>1.44e-150</td>\n",
       "</tr>\n",
       "<tr>\n",
       "  <th>Time:</th>                 <td>21:09:40</td>     <th>  Log-Likelihood:    </th> <td> -2023.3</td> \n",
       "</tr>\n",
       "<tr>\n",
       "  <th>No. Observations:</th>      <td>  1199</td>      <th>  AIC:               </th> <td>   4051.</td> \n",
       "</tr>\n",
       "<tr>\n",
       "  <th>Df Residuals:</th>          <td>  1197</td>      <th>  BIC:               </th> <td>   4061.</td> \n",
       "</tr>\n",
       "<tr>\n",
       "  <th>Df Model:</th>              <td>     1</td>      <th>                     </th>     <td> </td>    \n",
       "</tr>\n",
       "<tr>\n",
       "  <th>Covariance Type:</th>      <td>nonrobust</td>    <th>                     </th>     <td> </td>    \n",
       "</tr>\n",
       "</table>\n",
       "<table class=\"simpletable\">\n",
       "<tr>\n",
       "    <td></td>       <th>coef</th>     <th>std err</th>      <th>t</th>      <th>P>|t|</th>  <th>[0.025</th>    <th>0.975]</th>  \n",
       "</tr>\n",
       "<tr>\n",
       "  <th>const</th> <td> -598.6715</td> <td>   19.995</td> <td>  -29.941</td> <td> 0.000</td> <td> -637.901</td> <td> -559.442</td>\n",
       "</tr>\n",
       "<tr>\n",
       "  <th>x1</th>    <td>  608.9438</td> <td>   20.060</td> <td>   30.356</td> <td> 0.000</td> <td>  569.586</td> <td>  648.301</td>\n",
       "</tr>\n",
       "</table>\n",
       "<table class=\"simpletable\">\n",
       "<tr>\n",
       "  <th>Omnibus:</th>       <td>89.769</td> <th>  Durbin-Watson:     </th> <td>   2.078</td>\n",
       "</tr>\n",
       "<tr>\n",
       "  <th>Prob(Omnibus):</th> <td> 0.000</td> <th>  Jarque-Bera (JB):  </th> <td> 112.959</td>\n",
       "</tr>\n",
       "<tr>\n",
       "  <th>Skew:</th>          <td> 0.664</td> <th>  Prob(JB):          </th> <td>2.96e-25</td>\n",
       "</tr>\n",
       "<tr>\n",
       "  <th>Kurtosis:</th>      <td> 3.705</td> <th>  Cond. No.          </th> <td>1.06e+03</td>\n",
       "</tr>\n",
       "</table><br/><br/>Warnings:<br/>[1] Standard Errors assume that the covariance matrix of the errors is correctly specified.<br/>[2] The condition number is large, 1.06e+03. This might indicate that there are<br/>strong multicollinearity or other numerical problems."
      ],
      "text/plain": [
       "<class 'statsmodels.iolib.summary.Summary'>\n",
       "\"\"\"\n",
       "                            OLS Regression Results                            \n",
       "==============================================================================\n",
       "Dep. Variable:                      y   R-squared:                       0.435\n",
       "Model:                            OLS   Adj. R-squared:                  0.434\n",
       "Method:                 Least Squares   F-statistic:                     921.5\n",
       "Date:                Mon, 13 Jul 2020   Prob (F-statistic):          1.44e-150\n",
       "Time:                        21:09:40   Log-Likelihood:                -2023.3\n",
       "No. Observations:                1199   AIC:                             4051.\n",
       "Df Residuals:                    1197   BIC:                             4061.\n",
       "Df Model:                           1                                         \n",
       "Covariance Type:            nonrobust                                         \n",
       "==============================================================================\n",
       "                 coef    std err          t      P>|t|      [0.025      0.975]\n",
       "------------------------------------------------------------------------------\n",
       "const       -598.6715     19.995    -29.941      0.000    -637.901    -559.442\n",
       "x1           608.9438     20.060     30.356      0.000     569.586     648.301\n",
       "==============================================================================\n",
       "Omnibus:                       89.769   Durbin-Watson:                   2.078\n",
       "Prob(Omnibus):                  0.000   Jarque-Bera (JB):              112.959\n",
       "Skew:                           0.664   Prob(JB):                     2.96e-25\n",
       "Kurtosis:                       3.705   Cond. No.                     1.06e+03\n",
       "==============================================================================\n",
       "\n",
       "Warnings:\n",
       "[1] Standard Errors assume that the covariance matrix of the errors is correctly specified.\n",
       "[2] The condition number is large, 1.06e+03. This might indicate that there are\n",
       "strong multicollinearity or other numerical problems.\n",
       "\"\"\""
      ]
     },
     "execution_count": 28,
     "metadata": {},
     "output_type": "execute_result"
    }
   ],
   "source": [
    "# Evaluate the model with .summary()\n",
    "results2.summary()"
   ]
  },
  {
   "cell_type": "markdown",
   "metadata": {
    "colab_type": "text",
    "id": "2LlLmwEfGqlB"
   },
   "source": [
    "One of the great things about Statsmodels (sm) is that you get so much information from the summary() method. \n",
    "\n",
    "There are lots of values here, whose meanings you can explore at your leisure, but here's one of the most important: the R-squared score is 0.455, the same as what it was with the previous model. This makes perfect sense, right? It's the same value as the score from sklearn, because they've both used the same algorithm on the same data.\n",
    "\n",
    "Here's a useful link you can check out if you have the time: https://www.theanalysisfactor.com/assessing-the-fit-of-regression-models/"
   ]
  },
  {
   "cell_type": "code",
   "execution_count": 29,
   "metadata": {
    "colab": {},
    "colab_type": "code",
    "id": "lU654Tl3GqlB"
   },
   "outputs": [],
   "source": [
    "# Let's use our new model to make predictions of the dependent variable y. Use predict(), and plug in X_test as the parameter\n",
    "y_pred = results2.predict(X_test)"
   ]
  },
  {
   "cell_type": "code",
   "execution_count": 30,
   "metadata": {
    "colab": {},
    "colab_type": "code",
    "id": "7bGBv4wzGqlE",
    "scrolled": false
   },
   "outputs": [
    {
     "data": {
      "image/png": "[encoded data removed]",
      "text/plain": [
       "<Figure size 432x288 with 1 Axes>"
      ]
     },
     "metadata": {
      "needs_background": "light"
     },
     "output_type": "display_data"
    }
   ],
   "source": [
    "# Let's plot the predictions against the actual result. Use scatter()\n",
    "_ = plt.scatter(y_test,y_pred)\n",
    "lowest = int(np.around(min(y_test)))\n",
    "highest = int(np.around(max(y_test)))\n",
    "\n",
    "_ = plt.plot([x for x in range(lowest,highest)],[x for x in range(lowest,highest)], color='red')\n",
    "# Label it nicely\n",
    "plt.title(\"Model 2 predictions vs. actual\")\n",
    "plt.xlabel(\"Actual\")\n",
    "plt.ylabel(\"Predicted\")\n",
    "\n",
    "plt.show()"
   ]
  },
  {
   "cell_type": "markdown",
   "metadata": {
    "colab_type": "text",
    "id": "F8gO2aZSGqlF"
   },
   "source": [
    "The red line shows a theoretically perfect correlation between our actual and predicted values - the line that would exist if every prediction was completely correct. It's clear that while our points have a generally similar direction, they don't match the red line at all; we still have more work to do. \n",
    "\n",
    "To get a better predictive model, we should use more than one variable."
   ]
  },
  {
   "cell_type": "markdown",
   "metadata": {
    "colab_type": "text",
    "id": "Z9dVIIRZGqlG"
   },
   "source": [
    "#### 3d. Making a Linear Regression model: our third model: multiple linear regression\n",
    "Remember, as Professor Spiegelhalter explains on p.132 of *AoS*, including more than one explanatory variable into a linear regression analysis is known as ***multiple linear regression***. "
   ]
  },
  {
   "cell_type": "code",
   "execution_count": 31,
   "metadata": {},
   "outputs": [],
   "source": [
    "X = red_wine.drop(['fixed.acidity','quality'], 1)\n"
   ]
  },
  {
   "cell_type": "code",
   "execution_count": 32,
   "metadata": {
    "colab": {},
    "colab_type": "code",
    "id": "8SdG0NKSGqlH"
   },
   "outputs": [],
   "source": [
    "# Create test and train datasets\n",
    "# This is again very similar, but now we include more columns in the predictors\n",
    "# Include all columns from data in the explanatory variables X except fixed.acidity and quality (which was an integer)\n",
    "\n",
    "X = red_wine.drop(['fixed.acidity','quality'], 1).values \n",
    "y = red_wine['fixed.acidity'].values.reshape(-1,1)\n",
    "\n",
    "# Create constants for X, so the model knows its bounds\n",
    "X = sm.add_constant(X)\n",
    "\n",
    "# Split the dat\n",
    "X_train, X_test, y_train, y_test = train_test_split(X, y, test_size=0.25)"
   ]
  },
  {
   "cell_type": "code",
   "execution_count": 35,
   "metadata": {
    "colab": {},
    "colab_type": "code",
    "id": "1YnR6q3RGqlI"
   },
   "outputs": [
    {
     "name": "stdout",
     "output_type": "stream",
     "text": [
      "OLS parameters =  [-6.29752790e+02  2.63119639e-01  1.90615725e+00 -2.46302112e-01\n",
      " -3.28457506e+00  7.92239533e-03 -6.53063869e-03  6.52894735e+02\n",
      " -5.35311856e+00 -7.27627272e-01  5.70068583e-01]\n"
     ]
    }
   ],
   "source": [
    "# We can use almost identical code to create the third model, because it is the same algorithm, just different inputs\n",
    "# Create the model\n",
    "rModel3 = sm.OLS(y_train,X_train)\n",
    "\n",
    "# Fit the model with fit() \n",
    "results3 = rModel3.fit()\n",
    "\n",
    "print(\"OLS parameters = \", results3.params)"
   ]
  },
  {
   "cell_type": "code",
   "execution_count": 36,
   "metadata": {
    "colab": {},
    "colab_type": "code",
    "id": "qyZ54Rm4GqlL"
   },
   "outputs": [
    {
     "data": {
      "text/html": [
       "<table class=\"simpletable\">\n",
       "<caption>OLS Regression Results</caption>\n",
       "<tr>\n",
       "  <th>Dep. Variable:</th>            <td>y</td>        <th>  R-squared:         </th> <td>   0.875</td>\n",
       "</tr>\n",
       "<tr>\n",
       "  <th>Model:</th>                   <td>OLS</td>       <th>  Adj. R-squared:    </th> <td>   0.874</td>\n",
       "</tr>\n",
       "<tr>\n",
       "  <th>Method:</th>             <td>Least Squares</td>  <th>  F-statistic:       </th> <td>   830.9</td>\n",
       "</tr>\n",
       "<tr>\n",
       "  <th>Date:</th>             <td>Mon, 13 Jul 2020</td> <th>  Prob (F-statistic):</th>  <td>  0.00</td> \n",
       "</tr>\n",
       "<tr>\n",
       "  <th>Time:</th>                 <td>21:11:40</td>     <th>  Log-Likelihood:    </th> <td> -1127.0</td>\n",
       "</tr>\n",
       "<tr>\n",
       "  <th>No. Observations:</th>      <td>  1199</td>      <th>  AIC:               </th> <td>   2276.</td>\n",
       "</tr>\n",
       "<tr>\n",
       "  <th>Df Residuals:</th>          <td>  1188</td>      <th>  BIC:               </th> <td>   2332.</td>\n",
       "</tr>\n",
       "<tr>\n",
       "  <th>Df Model:</th>              <td>    10</td>      <th>                     </th>     <td> </td>   \n",
       "</tr>\n",
       "<tr>\n",
       "  <th>Covariance Type:</th>      <td>nonrobust</td>    <th>                     </th>     <td> </td>   \n",
       "</tr>\n",
       "</table>\n",
       "<table class=\"simpletable\">\n",
       "<tr>\n",
       "    <td></td>       <th>coef</th>     <th>std err</th>      <th>t</th>      <th>P>|t|</th>  <th>[0.025</th>    <th>0.975]</th>  \n",
       "</tr>\n",
       "<tr>\n",
       "  <th>const</th> <td> -629.7528</td> <td>   14.661</td> <td>  -42.956</td> <td> 0.000</td> <td> -658.516</td> <td> -600.989</td>\n",
       "</tr>\n",
       "<tr>\n",
       "  <th>x1</th>    <td>    0.2631</td> <td>    0.135</td> <td>    1.952</td> <td> 0.051</td> <td>   -0.001</td> <td>    0.528</td>\n",
       "</tr>\n",
       "<tr>\n",
       "  <th>x2</th>    <td>    1.9062</td> <td>    0.157</td> <td>   12.154</td> <td> 0.000</td> <td>    1.598</td> <td>    2.214</td>\n",
       "</tr>\n",
       "<tr>\n",
       "  <th>x3</th>    <td>   -0.2463</td> <td>    0.016</td> <td>  -15.386</td> <td> 0.000</td> <td>   -0.278</td> <td>   -0.215</td>\n",
       "</tr>\n",
       "<tr>\n",
       "  <th>x4</th>    <td>   -3.2846</td> <td>    0.463</td> <td>   -7.096</td> <td> 0.000</td> <td>   -4.193</td> <td>   -2.376</td>\n",
       "</tr>\n",
       "<tr>\n",
       "  <th>x5</th>    <td>    0.0079</td> <td>    0.002</td> <td>    3.332</td> <td> 0.001</td> <td>    0.003</td> <td>    0.013</td>\n",
       "</tr>\n",
       "<tr>\n",
       "  <th>x6</th>    <td>   -0.0065</td> <td>    0.001</td> <td>   -8.357</td> <td> 0.000</td> <td>   -0.008</td> <td>   -0.005</td>\n",
       "</tr>\n",
       "<tr>\n",
       "  <th>x7</th>    <td>  652.8947</td> <td>   14.619</td> <td>   44.662</td> <td> 0.000</td> <td>  624.213</td> <td>  681.576</td>\n",
       "</tr>\n",
       "<tr>\n",
       "  <th>x8</th>    <td>   -5.3531</td> <td>    0.148</td> <td>  -36.229</td> <td> 0.000</td> <td>   -5.643</td> <td>   -5.063</td>\n",
       "</tr>\n",
       "<tr>\n",
       "  <th>x9</th>    <td>   -0.7276</td> <td>    0.128</td> <td>   -5.677</td> <td> 0.000</td> <td>   -0.979</td> <td>   -0.476</td>\n",
       "</tr>\n",
       "<tr>\n",
       "  <th>x10</th>   <td>    0.5701</td> <td>    0.024</td> <td>   23.346</td> <td> 0.000</td> <td>    0.522</td> <td>    0.618</td>\n",
       "</tr>\n",
       "</table>\n",
       "<table class=\"simpletable\">\n",
       "<tr>\n",
       "  <th>Omnibus:</th>       <td>117.943</td> <th>  Durbin-Watson:     </th> <td>   1.979</td>\n",
       "</tr>\n",
       "<tr>\n",
       "  <th>Prob(Omnibus):</th> <td> 0.000</td>  <th>  Jarque-Bera (JB):  </th> <td> 368.222</td>\n",
       "</tr>\n",
       "<tr>\n",
       "  <th>Skew:</th>          <td> 0.479</td>  <th>  Prob(JB):          </th> <td>1.10e-80</td>\n",
       "</tr>\n",
       "<tr>\n",
       "  <th>Kurtosis:</th>      <td> 5.541</td>  <th>  Cond. No.          </th> <td>6.91e+04</td>\n",
       "</tr>\n",
       "</table><br/><br/>Warnings:<br/>[1] Standard Errors assume that the covariance matrix of the errors is correctly specified.<br/>[2] The condition number is large, 6.91e+04. This might indicate that there are<br/>strong multicollinearity or other numerical problems."
      ],
      "text/plain": [
       "<class 'statsmodels.iolib.summary.Summary'>\n",
       "\"\"\"\n",
       "                            OLS Regression Results                            \n",
       "==============================================================================\n",
       "Dep. Variable:                      y   R-squared:                       0.875\n",
       "Model:                            OLS   Adj. R-squared:                  0.874\n",
       "Method:                 Least Squares   F-statistic:                     830.9\n",
       "Date:                Mon, 13 Jul 2020   Prob (F-statistic):               0.00\n",
       "Time:                        21:11:40   Log-Likelihood:                -1127.0\n",
       "No. Observations:                1199   AIC:                             2276.\n",
       "Df Residuals:                    1188   BIC:                             2332.\n",
       "Df Model:                          10                                         \n",
       "Covariance Type:            nonrobust                                         \n",
       "==============================================================================\n",
       "                 coef    std err          t      P>|t|      [0.025      0.975]\n",
       "------------------------------------------------------------------------------\n",
       "const       -629.7528     14.661    -42.956      0.000    -658.516    -600.989\n",
       "x1             0.2631      0.135      1.952      0.051      -0.001       0.528\n",
       "x2             1.9062      0.157     12.154      0.000       1.598       2.214\n",
       "x3            -0.2463      0.016    -15.386      0.000      -0.278      -0.215\n",
       "x4            -3.2846      0.463     -7.096      0.000      -4.193      -2.376\n",
       "x5             0.0079      0.002      3.332      0.001       0.003       0.013\n",
       "x6            -0.0065      0.001     -8.357      0.000      -0.008      -0.005\n",
       "x7           652.8947     14.619     44.662      0.000     624.213     681.576\n",
       "x8            -5.3531      0.148    -36.229      0.000      -5.643      -5.063\n",
       "x9            -0.7276      0.128     -5.677      0.000      -0.979      -0.476\n",
       "x10            0.5701      0.024     23.346      0.000       0.522       0.618\n",
       "==============================================================================\n",
       "Omnibus:                      117.943   Durbin-Watson:                   1.979\n",
       "Prob(Omnibus):                  0.000   Jarque-Bera (JB):              368.222\n",
       "Skew:                           0.479   Prob(JB):                     1.10e-80\n",
       "Kurtosis:                       5.541   Cond. No.                     6.91e+04\n",
       "==============================================================================\n",
       "\n",
       "Warnings:\n",
       "[1] Standard Errors assume that the covariance matrix of the errors is correctly specified.\n",
       "[2] The condition number is large, 6.91e+04. This might indicate that there are\n",
       "strong multicollinearity or other numerical problems.\n",
       "\"\"\""
      ]
     },
     "execution_count": 36,
     "metadata": {},
     "output_type": "execute_result"
    }
   ],
   "source": [
    "# Evaluate the model\n",
    "results3.summary()"
   ]
  },
  {
   "cell_type": "markdown",
   "metadata": {
    "colab_type": "text",
    "id": "WNej4CuRGqlN"
   },
   "source": [
    "The R-Squared score shows a big improvement - our first model predicted only around 45% of the variation, but now we are predicting 87%!"
   ]
  },
  {
   "cell_type": "code",
   "execution_count": 37,
   "metadata": {
    "colab": {},
    "colab_type": "code",
    "id": "oNUQzzo6GqlN"
   },
   "outputs": [],
   "source": [
    "# Use our new model to make predictions\n",
    "y_pred = results3.predict(X_test)"
   ]
  },
  {
   "cell_type": "code",
   "execution_count": 38,
   "metadata": {},
   "outputs": [
    {
     "data": {
      "image/png": "[encoded data removed]",
      "text/plain": [
       "<Figure size 432x288 with 1 Axes>"
      ]
     },
     "metadata": {
      "needs_background": "light"
     },
     "output_type": "display_data"
    }
   ],
   "source": [
    "# Let's plot the predictions against the actual result. Use scatter()\n",
    "_ = plt.scatter(y_test,y_pred)\n",
    "lowest = int(np.around(min(y_test)))\n",
    "highest = int(np.around(max(y_test)))\n",
    "\n",
    "_ = plt.plot([x for x in range(lowest,highest)],[x for x in range(lowest,highest)], color='red')\n",
    "# Label it nicely\n",
    "plt.title(\"Model 3 predictions vs. actual\")\n",
    "plt.xlabel(\"Actual\")\n",
    "plt.ylabel(\"Predicted\")\n",
    "\n",
    "plt.show()"
   ]
  },
  {
   "cell_type": "markdown",
   "metadata": {
    "colab_type": "text",
    "id": "S1ibYGRMGqlR"
   },
   "source": [
    "We've now got a much closer match between our data and our predictions, and we can see that the shape of the data points is much more similar to the red line. "
   ]
  },
  {
   "cell_type": "markdown",
   "metadata": {
    "colab_type": "text",
    "id": "JWV66iJBGqlR"
   },
   "source": [
    "We can check another metric as well - the RMSE (Root Mean Squared Error). The MSE is defined by Professor Spiegelhalter on p.393 of *AoS*, and the RMSE is just the square root of that value. This is a measure of the accuracy of a regression model. Very simply put, it's formed by finding the average difference between predictions and actual values. Check out p. 163 of *AoS* for a reminder of how this works. "
   ]
  },
  {
   "cell_type": "code",
   "execution_count": 39,
   "metadata": {
    "colab": {},
    "colab_type": "code",
    "id": "akOtp5XbGqlS"
   },
   "outputs": [],
   "source": [
    "# Define a function to check the RMSE. Remember the def keyword needed to make functions? \n",
    "def RMSE(pred, test):\n",
    "    \"\"\"Calculate the Root Mean Squared Error give the Prediciton data and the Test data\"\"\"\n",
    "    rmse_val = np.sqrt(((pred - test) ** 2).mean())\n",
    "    return rmse_val\n"
   ]
  },
  {
   "cell_type": "code",
   "execution_count": 47,
   "metadata": {},
   "outputs": [
    {
     "data": {
      "text/html": [
       "<div>\n",
       "<style scoped>\n",
       "    .dataframe tbody tr th:only-of-type {\n",
       "        vertical-align: middle;\n",
       "    }\n",
       "\n",
       "    .dataframe tbody tr th {\n",
       "        vertical-align: top;\n",
       "    }\n",
       "\n",
       "    .dataframe thead th {\n",
       "        text-align: right;\n",
       "    }\n",
       "</style>\n",
       "<table border=\"1\" class=\"dataframe\">\n",
       "  <thead>\n",
       "    <tr style=\"text-align: right;\">\n",
       "      <th></th>\n",
       "      <th>Predictions</th>\n",
       "      <th>Test</th>\n",
       "    </tr>\n",
       "  </thead>\n",
       "  <tbody>\n",
       "    <tr>\n",
       "      <th>0</th>\n",
       "      <td>7.439495</td>\n",
       "      <td>8.1</td>\n",
       "    </tr>\n",
       "    <tr>\n",
       "      <th>1</th>\n",
       "      <td>7.483952</td>\n",
       "      <td>7.3</td>\n",
       "    </tr>\n",
       "    <tr>\n",
       "      <th>2</th>\n",
       "      <td>8.314989</td>\n",
       "      <td>9.1</td>\n",
       "    </tr>\n",
       "    <tr>\n",
       "      <th>3</th>\n",
       "      <td>7.035384</td>\n",
       "      <td>7.1</td>\n",
       "    </tr>\n",
       "    <tr>\n",
       "      <th>4</th>\n",
       "      <td>11.121496</td>\n",
       "      <td>9.2</td>\n",
       "    </tr>\n",
       "  </tbody>\n",
       "</table>\n",
       "</div>"
      ],
      "text/plain": [
       "   Predictions  Test\n",
       "0     7.439495   8.1\n",
       "1     7.483952   7.3\n",
       "2     8.314989   9.1\n",
       "3     7.035384   7.1\n",
       "4    11.121496   9.2"
      ]
     },
     "execution_count": 47,
     "metadata": {},
     "output_type": "execute_result"
    }
   ],
   "source": [
    "df = pd.DataFrame(y_pred, columns=['Predictions'])\n",
    "df['Test'] = pd.DataFrame(y_test)\n"
   ]
  },
  {
   "cell_type": "code",
   "execution_count": 50,
   "metadata": {
    "colab": {},
    "colab_type": "code",
    "id": "WDwrCwzIGqlV"
   },
   "outputs": [
    {
     "name": "stdout",
     "output_type": "stream",
     "text": [
      "RMSE =  0.6424662569248163\n"
     ]
    }
   ],
   "source": [
    "# Get predictions from rModel3\n",
    "df = pd.DataFrame(y_pred, columns=['Predictions'])\n",
    "\n",
    "# Put the predictions & actual values into a dataframe\n",
    "df['Test'] = pd.DataFrame(y_test)\n",
    "\n",
    "print(\"RMSE = \", RMSE(df['Test'], df['Predictions']))\n"
   ]
  },
  {
   "cell_type": "markdown",
   "metadata": {
    "colab_type": "text",
    "id": "GT2va_xdGqlY"
   },
   "source": [
    "The RMSE tells us how far, on average, our predictions were mistaken. An RMSE of 0 would mean we were making perfect predictions. 0.6 signifies that we are, on average, about 0.6 of a unit of fixed acidity away from the correct answer. That's not bad at all."
   ]
  },
  {
   "cell_type": "markdown",
   "metadata": {
    "colab_type": "text",
    "id": "V_L9Y6n_GqlZ"
   },
   "source": [
    "#### 3e. Making a Linear Regression model: our fourth model: avoiding redundancy "
   ]
  },
  {
   "cell_type": "markdown",
   "metadata": {
    "colab_type": "text",
    "id": "4mOHh6J3GqlZ"
   },
   "source": [
    "We can also see from our early heat map that volatile.acidity and citric.acid are both correlated with pH. We can make a model that ignores those two variables and just uses pH, in an attempt to remove redundancy from our model."
   ]
  },
  {
   "cell_type": "code",
   "execution_count": null,
   "metadata": {
    "colab": {},
    "colab_type": "code",
    "id": "VwClRAN4Gqla"
   },
   "outputs": [],
   "source": [
    "# Create test and train datasets\n",
    "# Include the remaining six columns as predictors\n",
    "_ _ _\n",
    "\n",
    "# Create constants for X, so the model knows its bounds\n",
    "_ _ _\n",
    "\n",
    "# Split the data\n",
    "\n",
    "_ _ _"
   ]
  },
  {
   "cell_type": "code",
   "execution_count": null,
   "metadata": {
    "colab": {},
    "colab_type": "code",
    "id": "7IXsxASsGqlc"
   },
   "outputs": [],
   "source": [
    "# Create the fifth model\n",
    "_ _ _\n",
    "# Fit the model\n",
    "_ _ _\n",
    "# Evaluate the model\n",
    "_ _ _\n"
   ]
  },
  {
   "cell_type": "markdown",
   "metadata": {
    "colab_type": "text",
    "id": "eTkBnGW5Gqle"
   },
   "source": [
    "The R-squared score has reduced, showing us that actually, the removed columns were important."
   ]
  },
  {
   "cell_type": "markdown",
   "metadata": {
    "colab_type": "text",
    "id": "DavE_2ejGqle"
   },
   "source": [
    "### Conclusions & next steps"
   ]
  },
  {
   "cell_type": "markdown",
   "metadata": {
    "colab_type": "text",
    "id": "JznDokUxGqlf"
   },
   "source": [
    "Congratulations on getting through this implementation of regression and good data science practice in Python! \n",
    "\n",
    "Take a moment to reflect on which model was the best, before reading on.\n",
    "\n",
    ".\n",
    ".\n",
    ".\n",
    "\n",
    "Here's one conclusion that seems right. While our most predictively powerful model was rModel3, this model had explanatory variables that were correlated with one another, which made some redundancy. Our most elegant and economical model was rModel4 - it used just a few predictors to get a good result. \n",
    "\n",
    "All of our models in this notebook have used the OLS algorithm - Ordinary Least Squares. There are many other regression algorithms, and if you have time, it would be good to investigate them. You can find some examples [here](https://www.statsmodels.org/dev/examples/index.html#regression). Be sure to make a note of what you find, and chat through it with your mentor at your next call.\n"
   ]
  }
 ],
 "metadata": {
  "colab": {
   "collapsed_sections": [],
   "name": "Springboard Regression Case Study, Unit 8 - the Red Wine Dataset - Tier 3.ipynb",
   "provenance": []
  },
  "kernelspec": {
   "display_name": "Python [conda env:TestEnv]",
   "language": "python",
   "name": "conda-env-TestEnv-py"
  },
  "language_info": {
   "codemirror_mode": {
    "name": "ipython",
    "version": 3
   },
   "file_extension": ".py",
   "mimetype": "text/x-python",
   "name": "python",
   "nbconvert_exporter": "python",
   "pygments_lexer": "ipython3",
   "version": "3.8.2"
  }
 },
 "nbformat": 4,
 "nbformat_minor": 1
}
